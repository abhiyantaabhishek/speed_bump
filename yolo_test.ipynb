{
  "nbformat": 4,
  "nbformat_minor": 0,
  "metadata": {
    "colab": {
      "name": "Copy of Untitled0.ipynb",
      "provenance": [],
      "collapsed_sections": [],
      "include_colab_link": true
    },
    "kernelspec": {
      "name": "python3",
      "display_name": "Python 3"
    },
    "accelerator": "GPU"
  },
  "cells": [
    {
      "cell_type": "markdown",
      "metadata": {
        "id": "view-in-github",
        "colab_type": "text"
      },
      "source": [
        "<a href=\"https://colab.research.google.com/github/abhiyantaabhishek/speed_bump/blob/master/yolo_test.ipynb\" target=\"_parent\"><img src=\"https://colab.research.google.com/assets/colab-badge.svg\" alt=\"Open In Colab\"/></a>"
      ]
    },
    {
      "cell_type": "code",
      "metadata": {
        "id": "z0I56fr3VWsT",
        "colab_type": "code",
        "outputId": "82a982ba-d0f9-4474-e503-42512be2efc1",
        "colab": {
          "base_uri": "https://localhost:8080/",
          "height": 124
        }
      },
      "source": [
        "!apt-get install -y -qq software-properties-common python-software-properties module-init-tools\n",
        "!add-apt-repository -y ppa:alessandro-strada/ppa 2>&1 > /dev/null\n",
        "!apt-get update -qq 2>&1 > /dev/null\n",
        "!apt-get -y install -qq google-drive-ocamlfuse fuse\n",
        "from google.colab import auth\n",
        "auth.authenticate_user()\n",
        "from oauth2client.client import GoogleCredentials\n",
        "creds = GoogleCredentials.get_application_default()\n",
        "import getpass\n",
        "!google-drive-ocamlfuse -headless -id={creds.client_id} -secret={creds.client_secret} < /dev/null 2>&1 | grep URL\n",
        "vcode = getpass.getpass()\n",
        "!echo {vcode} | google-drive-ocamlfuse -headless -id={creds.client_id} -secret={creds.client_secret}"
      ],
      "execution_count": 0,
      "outputs": [
        {
          "output_type": "stream",
          "text": [
            "E: Package 'python-software-properties' has no installation candidate\n",
            "Please, open the following URL in a web browser: https://accounts.google.com/o/oauth2/auth?client_id=32555940559.apps.googleusercontent.com&redirect_uri=urn%3Aietf%3Awg%3Aoauth%3A2.0%3Aoob&scope=https%3A%2F%2Fwww.googleapis.com%2Fauth%2Fdrive&response_type=code&access_type=offline&approval_prompt=force\n",
            "··········\n",
            "Please, open the following URL in a web browser: https://accounts.google.com/o/oauth2/auth?client_id=32555940559.apps.googleusercontent.com&redirect_uri=urn%3Aietf%3Awg%3Aoauth%3A2.0%3Aoob&scope=https%3A%2F%2Fwww.googleapis.com%2Fauth%2Fdrive&response_type=code&access_type=offline&approval_prompt=force\n",
            "Please enter the verification code: Access token retrieved correctly.\n"
          ],
          "name": "stdout"
        }
      ]
    },
    {
      "cell_type": "code",
      "metadata": {
        "id": "D1cikmQgXt86",
        "colab_type": "code",
        "colab": {}
      },
      "source": [
        "!mkdir -p drive"
      ],
      "execution_count": 0,
      "outputs": []
    },
    {
      "cell_type": "code",
      "metadata": {
        "id": "6kVaTLw7X5fM",
        "colab_type": "code",
        "colab": {}
      },
      "source": [
        "!google-drive-ocamlfuse drive"
      ],
      "execution_count": 0,
      "outputs": []
    },
    {
      "cell_type": "code",
      "metadata": {
        "id": "LBxFmYEUYNMc",
        "colab_type": "code",
        "colab": {}
      },
      "source": [
        "!pip install tensorflow"
      ],
      "execution_count": 0,
      "outputs": []
    },
    {
      "cell_type": "code",
      "metadata": {
        "id": "nOF95trE2r3r",
        "colab_type": "code",
        "outputId": "2fd65157-101b-4050-839e-479d9457d767",
        "colab": {
          "base_uri": "https://localhost:8080/",
          "height": 35
        }
      },
      "source": [
        "ls drive/bump_dataset"
      ],
      "execution_count": 0,
      "outputs": [
        {
          "output_type": "stream",
          "text": [
            "'Copy of Untitled0.ipynb'   \u001b[0m\u001b[01;34mir_det_dataset\u001b[0m/   ir_det_dataset.tar.gz\n"
          ],
          "name": "stdout"
        }
      ]
    },
    {
      "cell_type": "code",
      "metadata": {
        "id": "I4hJ9EzN3ipc",
        "colab_type": "code",
        "outputId": "9435ace7-c9ac-4c01-de07-ec34c30ce2b4",
        "colab": {
          "base_uri": "https://localhost:8080/",
          "height": 35
        }
      },
      "source": [
        "cd drive/bump_dataset"
      ],
      "execution_count": 0,
      "outputs": [
        {
          "output_type": "stream",
          "text": [
            "/content/drive/bump_dataset\n"
          ],
          "name": "stdout"
        }
      ]
    },
    {
      "cell_type": "code",
      "metadata": {
        "id": "C1wzyBMC3k8u",
        "colab_type": "code",
        "outputId": "13e9a135-9c68-4e83-ea1a-c0206c083d19",
        "colab": {
          "base_uri": "https://localhost:8080/",
          "height": 35
        }
      },
      "source": [
        "pwd"
      ],
      "execution_count": 0,
      "outputs": [
        {
          "output_type": "execute_result",
          "data": {
            "text/plain": [
              "'/content/drive/bump_dataset'"
            ]
          },
          "metadata": {
            "tags": []
          },
          "execution_count": 10
        }
      ]
    },
    {
      "cell_type": "code",
      "metadata": {
        "id": "6l8SwrlE3UNd",
        "colab_type": "code",
        "outputId": "f3756490-6c75-4c58-e94a-abd1b5dde2ed",
        "colab": {
          "base_uri": "https://localhost:8080/",
          "height": 1000
        }
      },
      "source": [
        "!tar -zxvf ir_det_dataset.tar.gz"
      ],
      "execution_count": 0,
      "outputs": [
        {
          "output_type": "stream",
          "text": [
            "ir_det_dataset/\n",
            "ir_det_dataset/labels/\n",
            "ir_det_dataset/labels/rgb/\n",
            "ir_det_dataset/labels/rgb/002534.txt\n",
            "ir_det_dataset/labels/rgb/000911.txt\n",
            "ir_det_dataset/labels/rgb/006839.txt\n",
            "ir_det_dataset/labels/rgb/006014.txt\n",
            "ir_det_dataset/labels/rgb/007127.txt\n",
            "ir_det_dataset/labels/rgb/002441.txt\n",
            "ir_det_dataset/labels/rgb/001632.txt\n",
            "ir_det_dataset/labels/rgb/003551.txt\n",
            "ir_det_dataset/labels/rgb/001423.txt\n",
            "ir_det_dataset/labels/rgb/000115.txt\n",
            "ir_det_dataset/labels/rgb/000479.txt\n",
            "ir_det_dataset/labels/rgb/006588.txt\n",
            "ir_det_dataset/labels/rgb/003573.txt\n",
            "ir_det_dataset/labels/rgb/000293.txt\n",
            "ir_det_dataset/labels/rgb/005237.txt\n",
            "ir_det_dataset/labels/rgb/007178.txt\n",
            "ir_det_dataset/labels/rgb/000940.txt\n",
            "ir_det_dataset/labels/rgb/002550.txt\n",
            "ir_det_dataset/labels/rgb/005570.txt\n",
            "ir_det_dataset/labels/rgb/000439.txt\n",
            "ir_det_dataset/labels/rgb/001379.txt\n",
            "ir_det_dataset/labels/rgb/000847.txt\n",
            "ir_det_dataset/labels/rgb/002245.txt\n",
            "ir_det_dataset/labels/rgb/002862.txt\n",
            "ir_det_dataset/labels/rgb/005820.txt\n",
            "ir_det_dataset/labels/rgb/001443.txt\n",
            "ir_det_dataset/labels/rgb/002299.txt\n",
            "ir_det_dataset/labels/rgb/001173.txt\n",
            "ir_det_dataset/labels/rgb/004346.txt\n",
            "ir_det_dataset/labels/rgb/003877.txt\n",
            "ir_det_dataset/labels/rgb/006645.txt\n",
            "ir_det_dataset/labels/rgb/006614.txt\n",
            "ir_det_dataset/labels/rgb/005038.txt\n",
            "ir_det_dataset/labels/rgb/004592.txt\n",
            "ir_det_dataset/labels/rgb/005286.txt\n",
            "ir_det_dataset/labels/rgb/000279.txt\n",
            "ir_det_dataset/labels/rgb/003903.txt\n",
            "ir_det_dataset/labels/rgb/002902.txt\n",
            "ir_det_dataset/labels/rgb/002577.txt\n",
            "ir_det_dataset/labels/rgb/006897.txt\n",
            "ir_det_dataset/labels/rgb/007428.txt\n",
            "ir_det_dataset/labels/rgb/006537.txt\n",
            "ir_det_dataset/labels/rgb/004447.txt\n",
            "ir_det_dataset/labels/rgb/002676.txt\n",
            "ir_det_dataset/labels/rgb/005430.txt\n",
            "ir_det_dataset/labels/rgb/001101.txt\n",
            "ir_det_dataset/labels/rgb/003639.txt\n",
            "ir_det_dataset/labels/rgb/007471.txt\n",
            "ir_det_dataset/labels/rgb/006747.txt\n",
            "ir_det_dataset/labels/rgb/007180.txt\n",
            "ir_det_dataset/labels/rgb/005962.txt\n",
            "ir_det_dataset/labels/rgb/003611.txt\n",
            "ir_det_dataset/labels/rgb/000577.txt\n",
            "ir_det_dataset/labels/rgb/000016.txt\n",
            "ir_det_dataset/labels/rgb/005310.txt\n",
            "ir_det_dataset/labels/rgb/000787.txt\n",
            "ir_det_dataset/labels/rgb/002687.txt\n",
            "ir_det_dataset/labels/rgb/005075.txt\n",
            "ir_det_dataset/labels/rgb/007319.txt\n",
            "ir_det_dataset/labels/rgb/004562.txt\n",
            "ir_det_dataset/labels/rgb/006564.txt\n",
            "ir_det_dataset/labels/rgb/001807.txt\n",
            "ir_det_dataset/labels/rgb/003288.txt\n",
            "ir_det_dataset/labels/rgb/001345.txt\n",
            "ir_det_dataset/labels/rgb/005055.txt\n",
            "ir_det_dataset/labels/rgb/001183.txt\n",
            "ir_det_dataset/labels/rgb/006118.txt\n",
            "ir_det_dataset/labels/rgb/007213.txt\n",
            "ir_det_dataset/labels/rgb/006429.txt\n",
            "ir_det_dataset/labels/rgb/004529.txt\n",
            "ir_det_dataset/labels/rgb/005887.txt\n",
            "ir_det_dataset/labels/rgb/006418.txt\n",
            "ir_det_dataset/labels/rgb/000184.txt\n",
            "ir_det_dataset/labels/rgb/004642.txt\n",
            "ir_det_dataset/labels/rgb/004264.txt\n",
            "ir_det_dataset/labels/rgb/000420.txt\n",
            "ir_det_dataset/labels/rgb/005330.txt\n",
            "ir_det_dataset/labels/rgb/000553.txt\n",
            "ir_det_dataset/labels/rgb/001397.txt\n",
            "ir_det_dataset/labels/rgb/006755.txt\n",
            "ir_det_dataset/labels/rgb/002310.txt\n",
            "ir_det_dataset/labels/rgb/002418.txt\n",
            "ir_det_dataset/labels/rgb/001867.txt\n",
            "ir_det_dataset/labels/rgb/003443.txt\n",
            "ir_det_dataset/labels/rgb/000443.txt\n",
            "ir_det_dataset/labels/rgb/006811.txt\n",
            "ir_det_dataset/labels/rgb/001656.txt\n",
            "ir_det_dataset/labels/rgb/003176.txt\n",
            "ir_det_dataset/labels/rgb/003217.txt\n",
            "ir_det_dataset/labels/rgb/005625.txt\n",
            "ir_det_dataset/labels/rgb/002354.txt\n",
            "ir_det_dataset/labels/rgb/001703.txt\n",
            "ir_det_dataset/labels/rgb/002678.txt\n",
            "ir_det_dataset/labels/rgb/000181.txt\n",
            "ir_det_dataset/labels/rgb/003731.txt\n",
            "ir_det_dataset/labels/rgb/000794.txt\n",
            "ir_det_dataset/labels/rgb/001593.txt\n",
            "ir_det_dataset/labels/rgb/004836.txt\n",
            "ir_det_dataset/labels/rgb/006343.txt\n",
            "ir_det_dataset/labels/rgb/002083.txt\n",
            "ir_det_dataset/labels/rgb/006327.txt\n",
            "ir_det_dataset/labels/rgb/001956.txt\n",
            "ir_det_dataset/labels/rgb/003248.txt\n",
            "ir_det_dataset/labels/rgb/006321.txt\n",
            "ir_det_dataset/labels/rgb/006179.txt\n",
            "ir_det_dataset/labels/rgb/005512.txt\n",
            "ir_det_dataset/labels/rgb/000530.txt\n",
            "ir_det_dataset/labels/rgb/005883.txt\n",
            "ir_det_dataset/labels/rgb/006726.txt\n",
            "ir_det_dataset/labels/rgb/000710.txt\n",
            "ir_det_dataset/labels/rgb/006275.txt\n",
            "ir_det_dataset/labels/rgb/006580.txt\n",
            "ir_det_dataset/labels/rgb/000558.txt\n",
            "ir_det_dataset/labels/rgb/006371.txt\n",
            "ir_det_dataset/labels/rgb/002486.txt\n",
            "ir_det_dataset/labels/rgb/001371.txt\n",
            "ir_det_dataset/labels/rgb/006312.txt\n",
            "ir_det_dataset/labels/rgb/007098.txt\n",
            "ir_det_dataset/labels/rgb/000907.txt\n",
            "ir_det_dataset/labels/rgb/005746.txt\n",
            "ir_det_dataset/labels/rgb/001433.txt\n",
            "ir_det_dataset/labels/rgb/001882.txt\n",
            "ir_det_dataset/labels/rgb/006415.txt\n",
            "ir_det_dataset/labels/rgb/007364.txt\n",
            "ir_det_dataset/labels/rgb/006681.txt\n",
            "ir_det_dataset/labels/rgb/005659.txt\n",
            "ir_det_dataset/labels/rgb/005471.txt\n",
            "ir_det_dataset/labels/rgb/003771.txt\n",
            "ir_det_dataset/labels/rgb/004285.txt\n",
            "ir_det_dataset/labels/rgb/000926.txt\n",
            "ir_det_dataset/labels/rgb/002622.txt\n",
            "ir_det_dataset/labels/rgb/003458.txt\n",
            "ir_det_dataset/labels/rgb/006507.txt\n",
            "ir_det_dataset/labels/rgb/000084.txt\n",
            "ir_det_dataset/labels/rgb/006829.txt\n",
            "ir_det_dataset/labels/rgb/000315.txt\n",
            "ir_det_dataset/labels/rgb/002575.txt\n",
            "ir_det_dataset/labels/rgb/006487.txt\n",
            "ir_det_dataset/labels/rgb/001161.txt\n",
            "ir_det_dataset/labels/rgb/005737.txt\n",
            "ir_det_dataset/labels/rgb/001811.txt\n",
            "ir_det_dataset/labels/rgb/005096.txt\n",
            "ir_det_dataset/labels/rgb/001362.txt\n",
            "ir_det_dataset/labels/rgb/006711.txt\n",
            "ir_det_dataset/labels/rgb/001212.txt\n",
            "ir_det_dataset/labels/rgb/001979.txt\n",
            "ir_det_dataset/labels/rgb/002405.txt\n",
            "ir_det_dataset/labels/rgb/001902.txt\n",
            "ir_det_dataset/labels/rgb/005901.txt\n",
            "ir_det_dataset/labels/rgb/006292.txt\n",
            "ir_det_dataset/labels/rgb/004823.txt\n",
            "ir_det_dataset/labels/rgb/001170.txt\n",
            "ir_det_dataset/labels/rgb/003274.txt\n",
            "ir_det_dataset/labels/rgb/005800.txt\n",
            "ir_det_dataset/labels/rgb/003912.txt\n",
            "ir_det_dataset/labels/rgb/006510.txt\n",
            "ir_det_dataset/labels/rgb/005714.txt\n",
            "ir_det_dataset/labels/rgb/001323.txt\n",
            "ir_det_dataset/labels/rgb/005631.txt\n",
            "ir_det_dataset/labels/rgb/006945.txt\n",
            "ir_det_dataset/labels/rgb/003208.txt\n",
            "ir_det_dataset/labels/rgb/006730.txt\n",
            "ir_det_dataset/labels/rgb/002699.txt\n",
            "ir_det_dataset/labels/rgb/001880.txt\n",
            "ir_det_dataset/labels/rgb/000387.txt\n",
            "ir_det_dataset/labels/rgb/004888.txt\n",
            "ir_det_dataset/labels/rgb/001032.txt\n",
            "ir_det_dataset/labels/rgb/004933.txt\n",
            "ir_det_dataset/labels/rgb/005794.txt\n",
            "ir_det_dataset/labels/rgb/001964.txt\n",
            "ir_det_dataset/labels/rgb/004426.txt\n",
            "ir_det_dataset/labels/rgb/007094.txt\n",
            "ir_det_dataset/labels/rgb/006489.txt\n",
            "ir_det_dataset/labels/rgb/007381.txt\n",
            "ir_det_dataset/labels/rgb/001010.txt\n",
            "ir_det_dataset/labels/rgb/006450.txt\n",
            "ir_det_dataset/labels/rgb/000931.txt\n",
            "ir_det_dataset/labels/rgb/005440.txt\n",
            "ir_det_dataset/labels/rgb/000691.txt\n",
            "ir_det_dataset/labels/rgb/000533.txt\n",
            "ir_det_dataset/labels/rgb/005112.txt\n",
            "ir_det_dataset/labels/rgb/004977.txt\n",
            "ir_det_dataset/labels/rgb/003933.txt\n",
            "ir_det_dataset/labels/rgb/000652.txt\n",
            "ir_det_dataset/labels/rgb/000111.txt\n",
            "ir_det_dataset/labels/rgb/003290.txt\n",
            "ir_det_dataset/labels/rgb/000001.txt\n",
            "ir_det_dataset/labels/rgb/003583.txt\n"
          ],
          "name": "stdout"
        }
      ]
    },
    {
      "cell_type": "code",
      "metadata": {
        "id": "k_BqRBtA3X3M",
        "colab_type": "code",
        "colab": {}
      },
      "source": [
        ""
      ],
      "execution_count": 0,
      "outputs": []
    }
  ]
}