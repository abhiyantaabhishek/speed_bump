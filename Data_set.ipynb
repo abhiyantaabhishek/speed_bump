{
  "nbformat": 4,
  "nbformat_minor": 0,
  "metadata": {
    "colab": {
      "name": "Copy of Copy of Untitled0.ipynb",
      "provenance": [],
      "include_colab_link": true
    },
    "kernelspec": {
      "name": "python3",
      "display_name": "Python 3"
    },
    "accelerator": "GPU"
  },
  "cells": [
    {
      "cell_type": "markdown",
      "metadata": {
        "id": "view-in-github",
        "colab_type": "text"
      },
      "source": [
        "<a href=\"https://colab.research.google.com/github/abhiyantaabhishek/speed_bump/blob/master/Data_set.ipynb\" target=\"_parent\"><img src=\"https://colab.research.google.com/assets/colab-badge.svg\" alt=\"Open In Colab\"/></a>"
      ]
    },
    {
      "cell_type": "code",
      "metadata": {
        "id": "osQRcm7DzmUn",
        "colab_type": "code",
        "colab": {}
      },
      "source": [
        "import requests\n",
        "\n",
        "def download_file_from_google_drive(id, destination):\n",
        "    URL = \"https://docs.google.com/uc?export=download\"\n",
        "\n",
        "    session = requests.Session()\n",
        "\n",
        "    response = session.get(URL, params = { 'id' : id }, stream = True)\n",
        "    token = get_confirm_token(response)\n",
        "\n",
        "    if token:\n",
        "        params = { 'id' : id, 'confirm' : token }\n",
        "        response = session.get(URL, params = params, stream = True)\n",
        "\n",
        "    save_response_content(response, destination)    \n",
        "\n",
        "def get_confirm_token(response):\n",
        "    for key, value in response.cookies.items():\n",
        "        if key.startswith('download_warning'):\n",
        "            return value\n",
        "\n",
        "    return None\n",
        "\n",
        "def save_response_content(response, destination):\n",
        "    CHUNK_SIZE = 32768\n",
        "\n",
        "    with open(destination, \"wb\") as f:\n",
        "        for chunk in response.iter_content(CHUNK_SIZE):\n",
        "            if chunk: # filter out keep-alive new chunks\n",
        "                f.write(chunk)\n",
        "\n",
        "\n",
        "file_id = '0B7Loi-7ye3pPY1dRalliazlQMDg'\n",
        "destination = 'ir_det_dataset.tar.gz'\n",
        "download_file_from_google_drive(file_id, destination)"
      ],
      "execution_count": 0,
      "outputs": []
    },
    {
      "cell_type": "code",
      "metadata": {
        "id": "-tv_BhHh0kDi",
        "colab_type": "code",
        "colab": {
          "base_uri": "https://localhost:8080/",
          "height": 69
        },
        "outputId": "6ecb6f8e-45a8-4cec-f4e9-72bc45b12b2f"
      },
      "source": [
        "ll"
      ],
      "execution_count": 17,
      "outputs": [
        {
          "output_type": "stream",
          "text": [
            "total 7184124\n",
            "-rw-r--r-- 1 root 7356531572 Mar  3 10:09 ir_det_dataset.tar.gz\n",
            "drwxr-xr-x 1 root       4096 Feb  5 18:37 \u001b[0m\u001b[01;34msample_data\u001b[0m/\n"
          ],
          "name": "stdout"
        }
      ]
    },
    {
      "cell_type": "code",
      "metadata": {
        "id": "v_Y_fguw5SIh",
        "colab_type": "code",
        "colab": {}
      },
      "source": [
        "!tar -zxvf ir_det_dataset.tar.gz"
      ],
      "execution_count": 0,
      "outputs": []
    },
    {
      "cell_type": "code",
      "metadata": {
        "id": "J0y1lA6p6WuS",
        "colab_type": "code",
        "colab": {}
      },
      "source": [
        "rm ir_det_dataset.tar.gz"
      ],
      "execution_count": 0,
      "outputs": []
    },
    {
      "cell_type": "code",
      "metadata": {
        "id": "C-9BbzLK6hyE",
        "colab_type": "code",
        "colab": {
          "base_uri": "https://localhost:8080/",
          "height": 69
        },
        "outputId": "f9fad045-9c0f-4a9e-fc54-7377104117a1"
      },
      "source": [
        "ll"
      ],
      "execution_count": 21,
      "outputs": [
        {
          "output_type": "stream",
          "text": [
            "total 8\n",
            "drwxr-xr-x 12 2049 4096 Jul 25  2017 \u001b[0m\u001b[01;34mir_det_dataset\u001b[0m/\n",
            "drwxr-xr-x  1 root 4096 Feb  5 18:37 \u001b[01;34msample_data\u001b[0m/\n"
          ],
          "name": "stdout"
        }
      ]
    },
    {
      "cell_type": "code",
      "metadata": {
        "id": "p1hfx1Pe6rA3",
        "colab_type": "code",
        "colab": {
          "base_uri": "https://localhost:8080/",
          "height": 124
        },
        "outputId": "b1cdbf5d-594c-48ce-8c6c-d7ffb7690afd"
      },
      "source": [
        "from google.colab import drive\n",
        "drive.mount('/content/drive')"
      ],
      "execution_count": 22,
      "outputs": [
        {
          "output_type": "stream",
          "text": [
            "Go to this URL in a browser: https://accounts.google.com/o/oauth2/auth?client_id=947318989803-6bn6qk8qdgf4n4g3pfee6491hc0brc4i.apps.googleusercontent.com&redirect_uri=urn%3aietf%3awg%3aoauth%3a2.0%3aoob&response_type=code&scope=email%20https%3a%2f%2fwww.googleapis.com%2fauth%2fdocs.test%20https%3a%2f%2fwww.googleapis.com%2fauth%2fdrive%20https%3a%2f%2fwww.googleapis.com%2fauth%2fdrive.photos.readonly%20https%3a%2f%2fwww.googleapis.com%2fauth%2fpeopleapi.readonly\n",
            "\n",
            "Enter your authorization code:\n",
            "··········\n",
            "Mounted at /content/drive\n"
          ],
          "name": "stdout"
        }
      ]
    },
    {
      "cell_type": "code",
      "metadata": {
        "id": "hF4UgbAP63am",
        "colab_type": "code",
        "colab": {
          "base_uri": "https://localhost:8080/",
          "height": 52
        },
        "outputId": "77f721b3-596b-4a47-f8a1-7b9d20a77f33"
      },
      "source": [
        "ls drive/'My Drive'/bump_dataset"
      ],
      "execution_count": 27,
      "outputs": [
        {
          "output_type": "stream",
          "text": [
            "'Copy of Copy of Untitled0.ipynb'   \u001b[0m\u001b[01;34mir_det_dataset\u001b[0m/\n",
            "'Copy of Untitled0.ipynb'           ir_det_dataset.tar.gz\n"
          ],
          "name": "stdout"
        }
      ]
    },
    {
      "cell_type": "code",
      "metadata": {
        "id": "K_J5Smr67Obm",
        "colab_type": "code",
        "colab": {}
      },
      "source": [
        "!cp -r ir_det_dataset drive/'My Drive'/bump_dataset/ir_det_dataset"
      ],
      "execution_count": 0,
      "outputs": []
    },
    {
      "cell_type": "code",
      "metadata": {
        "id": "ReeD-s8BDZrc",
        "colab_type": "code",
        "colab": {}
      },
      "source": [
        "ls ir_det_dataset/"
      ],
      "execution_count": 0,
      "outputs": []
    },
    {
      "cell_type": "code",
      "metadata": {
        "id": "iOE9GKtODiND",
        "colab_type": "code",
        "colab": {
          "base_uri": "https://localhost:8080/",
          "height": 87
        },
        "outputId": "67ed18aa-40ae-4539-e47b-7c24fac98185"
      },
      "source": [
        "ls drive/'My Drive'/bump_dataset/ir_det_dataset/ir_det_dataset/"
      ],
      "execution_count": 35,
      "outputs": [
        {
          "output_type": "stream",
          "text": [
            "\u001b[0m\u001b[01;34mAnnotations\u001b[0m/                      \u001b[01;34mconverted_labels\u001b[0m/  noAnnotationList.txt\n",
            "\u001b[01;34mAnnotations_Converted\u001b[0m/            \u001b[01;34mImages\u001b[0m/            README.txt\n",
            "\u001b[01;34mAnnotations_ConvertedSummarized\u001b[0m/  ir_label.py        \u001b[01;34mvis\u001b[0m/\n",
            "\u001b[01;34mConvertedImages\u001b[0m/                  \u001b[01;34mlabels\u001b[0m/            \u001b[01;34mvis_ok\u001b[0m/\n"
          ],
          "name": "stdout"
        }
      ]
    },
    {
      "cell_type": "code",
      "metadata": {
        "id": "accwOxqyErH7",
        "colab_type": "code",
        "colab": {}
      },
      "source": [
        "\n",
        "drive.flush_and_unmount()"
      ],
      "execution_count": 0,
      "outputs": []
    }
  ]
}